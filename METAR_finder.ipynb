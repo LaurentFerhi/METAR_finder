{
 "cells": [
  {
   "cell_type": "markdown",
   "metadata": {},
   "source": [
    "# METAR data on nearest airport\n",
    "https://ourairports.com/data/\n",
    "\n",
    "https://aviationweather.gov/dataserver/example?datatype=metar\n",
    "\n",
    "https://aviationweather.gov/adds/dataserver_current/httpparam?dataSource=metars&requestType=retrieve&format=xml&startTime=2023-01-21T19:09:20Z&endTime=2023-01-21T21:09:20Z&stationString=PHTO"
   ]
  },
  {
   "cell_type": "code",
   "execution_count": 4,
   "metadata": {},
   "outputs": [],
   "source": [
    "# pip install beautifulsoup4\n",
    "# pip install lxml"
   ]
  },
  {
   "cell_type": "code",
   "execution_count": 5,
   "metadata": {},
   "outputs": [],
   "source": [
    "import requests\n",
    "import json\n",
    "from bs4 import BeautifulSoup\n",
    "\n",
    "import numpy as np\n",
    "import pandas as pd"
   ]
  },
  {
   "cell_type": "code",
   "execution_count": 6,
   "metadata": {},
   "outputs": [],
   "source": [
    "### Load airports data\n",
    "airports = pd.read_csv('airports.csv')\n",
    "airports = airports[airports.scheduled_service == 'yes'] # only aiprt with weather station"
   ]
  },
  {
   "cell_type": "code",
   "execution_count": 48,
   "metadata": {},
   "outputs": [],
   "source": [
    "def haversine(lon1, lat1, lon2, lat2):\n",
    "    '''\n",
    "    Calculate the great circle distance in nautical miles between two points \n",
    "    on the earth\n",
    "    '''\n",
    "    # Radius of earth in nm (6371 for miles)\n",
    "    r = 3956 \n",
    "    \n",
    "    # degrees to radians \n",
    "    lon1, lat1, lon2, lat2 = map(np.radians, [lon1, lat1, lon2, lat2])\n",
    "\n",
    "    # haversine formula \n",
    "    dlon, dlat = lon2 - lon1, lat2 - lat1\n",
    "    a = np.sin(dlat/2)**2 + np.cos(lat1) * np.cos(lat2) * np.sin(dlon/2)**2\n",
    "    return 2 * np.arcsin(np.sqrt(a))  * r\n",
    "\n",
    "def request_metars(start_date,end_date,oaci):\n",
    "    '''\n",
    "    Read xml file from https://aviationweather.gov/dataserver/example?datatype=metar API\n",
    "    and extract METARS.\n",
    "    sd: start date\n",
    "    sh: start hour\n",
    "    ed: end date\n",
    "    eh: en hour\n",
    "    returns a pandas dataframe with METAR, temperature, visibility and flight rule\n",
    "    '''\n",
    "    sd, sh = start_date.split()[0], start_date.split()[1]\n",
    "    ed, eh = end_date.split()[0], end_date.split()[1]\n",
    "    \n",
    "    url = \"https://aviationweather.gov/adds/dataserver_current/httpparam?\"\\\n",
    "        + \"dataSource=metars&requestType=retrieve&format=xml&\"\\\n",
    "        +\"startTime={}T{}Z&endTime={}T{}Z&stationString={}\".format(sd,sh,ed,eh,oaci)\n",
    "    \n",
    "    response = requests.get(url)\n",
    "    bs_data = BeautifulSoup(response.text, \"xml\")\n",
    "    #print(bs_data.prettify()) # uncomment to see all xml file\n",
    "    \n",
    "    dict_METAR = {}\n",
    "    for tag in ['raw_text','temp_c','visibility_statute_mi','flight_category']:\n",
    "        dict_METAR[tag] = []\n",
    "        for link in bs_data.find_all(tag):\n",
    "            dict_METAR[tag].append(link.contents[0]) \n",
    "\n",
    "    results = pd.DataFrame(dict_METAR)\n",
    "    results['temp_c'] = results['temp_c'].astype(float)\n",
    "    results['visibility_statute_mi'] = results['visibility_statute_mi'].astype(float)\n",
    "    \n",
    "    return results\n",
    "\n",
    "def get_nearest_apt_metar(lat, lon, start_date, end_date, tries = 20):\n",
    "    '''\n",
    "    Get METARS from the nearest airport of the lat, lon point during a time range\n",
    "    between start_date and end_date. \n",
    "    tries: number of OACI requests by increasing distance to lat, lon point\n",
    "    '''\n",
    "    \n",
    "    # Get the nearest airport with weather service\n",
    "    best_match = airports.iloc[\n",
    "        (abs(airports['latitude_deg']-lat) + abs(airports['longitude_deg']-lon)).argsort()\n",
    "    ].head(tries)\n",
    "\n",
    "    best_match['distance'] = best_match.apply(lambda x: haversine(lon, lat, x.longitude_deg, x.latitude_deg), axis=1)\n",
    "    best_match = best_match.reset_index(drop=True)\n",
    "\n",
    "    # Search valid metars in the 20th nearest aiprorts during the specified time range\n",
    "    for idx in range(best_match.shape[0]):\n",
    "        \n",
    "        best_match.iloc[idx].ident\n",
    "        df_metar = request_metars(start_date,end_date,best_match.iloc[idx].ident)\n",
    "        \n",
    "        if df_metar.shape[0] > 0:\n",
    "            df_metar['distance'] = best_match.iloc[idx].distance\n",
    "            return df_metar\n",
    "        \n",
    "    return 'no metar found'"
   ]
  },
  {
   "cell_type": "code",
   "execution_count": 49,
   "metadata": {},
   "outputs": [
    {
     "data": {
      "text/html": [
       "<div>\n",
       "<style scoped>\n",
       "    .dataframe tbody tr th:only-of-type {\n",
       "        vertical-align: middle;\n",
       "    }\n",
       "\n",
       "    .dataframe tbody tr th {\n",
       "        vertical-align: top;\n",
       "    }\n",
       "\n",
       "    .dataframe thead th {\n",
       "        text-align: right;\n",
       "    }\n",
       "</style>\n",
       "<table border=\"1\" class=\"dataframe\">\n",
       "  <thead>\n",
       "    <tr style=\"text-align: right;\">\n",
       "      <th></th>\n",
       "      <th>raw_text</th>\n",
       "      <th>temp_c</th>\n",
       "      <th>visibility_statute_mi</th>\n",
       "      <th>flight_category</th>\n",
       "      <th>distance</th>\n",
       "    </tr>\n",
       "  </thead>\n",
       "  <tbody>\n",
       "    <tr>\n",
       "      <th>0</th>\n",
       "      <td>EDDM 212050Z AUTO 32006KT 9999 FEW010 BKN044 M...</td>\n",
       "      <td>-2.0</td>\n",
       "      <td>6.21</td>\n",
       "      <td>VFR</td>\n",
       "      <td>12.763399</td>\n",
       "    </tr>\n",
       "    <tr>\n",
       "      <th>1</th>\n",
       "      <td>EDDM 212020Z AUTO 32004KT 9999 -SN FEW010 BKN0...</td>\n",
       "      <td>-2.0</td>\n",
       "      <td>6.21</td>\n",
       "      <td>MVFR</td>\n",
       "      <td>12.763399</td>\n",
       "    </tr>\n",
       "    <tr>\n",
       "      <th>2</th>\n",
       "      <td>EDDM 211950Z AUTO 33005KT 9000 -SN SCT015 BKN0...</td>\n",
       "      <td>-2.0</td>\n",
       "      <td>5.59</td>\n",
       "      <td>VFR</td>\n",
       "      <td>12.763399</td>\n",
       "    </tr>\n",
       "    <tr>\n",
       "      <th>3</th>\n",
       "      <td>EDDM 211920Z AUTO 33006KT 290V350 6000 -SN FEW...</td>\n",
       "      <td>-2.0</td>\n",
       "      <td>3.73</td>\n",
       "      <td>MVFR</td>\n",
       "      <td>12.763399</td>\n",
       "    </tr>\n",
       "  </tbody>\n",
       "</table>\n",
       "</div>"
      ],
      "text/plain": [
       "                                            raw_text  temp_c  \\\n",
       "0  EDDM 212050Z AUTO 32006KT 9999 FEW010 BKN044 M...    -2.0   \n",
       "1  EDDM 212020Z AUTO 32004KT 9999 -SN FEW010 BKN0...    -2.0   \n",
       "2  EDDM 211950Z AUTO 33005KT 9000 -SN SCT015 BKN0...    -2.0   \n",
       "3  EDDM 211920Z AUTO 33006KT 290V350 6000 -SN FEW...    -2.0   \n",
       "\n",
       "   visibility_statute_mi flight_category   distance  \n",
       "0                   6.21             VFR  12.763399  \n",
       "1                   6.21            MVFR  12.763399  \n",
       "2                   5.59             VFR  12.763399  \n",
       "3                   3.73            MVFR  12.763399  "
      ]
     },
     "execution_count": 49,
     "metadata": {},
     "output_type": "execute_result"
    }
   ],
   "source": [
    "lat, lon = 48.403088, 11.517864\n",
    "start_date = '2023-01-21 19:09:20'\n",
    "end_date = '2023-01-21 21:09:20'\n",
    "\n",
    "get_nearest_apt_metar(lat, lon, start_date, end_date)"
   ]
  },
  {
   "cell_type": "code",
   "execution_count": 42,
   "metadata": {},
   "outputs": [
    {
     "data": {
      "text/plain": [
       "'EDDM'"
      ]
     },
     "execution_count": 42,
     "metadata": {},
     "output_type": "execute_result"
    }
   ],
   "source": []
  }
 ],
 "metadata": {
  "kernelspec": {
   "display_name": "Python 3",
   "language": "python",
   "name": "python3"
  },
  "language_info": {
   "codemirror_mode": {
    "name": "ipython",
    "version": 3
   },
   "file_extension": ".py",
   "mimetype": "text/x-python",
   "name": "python",
   "nbconvert_exporter": "python",
   "pygments_lexer": "ipython3",
   "version": "3.7.6"
  }
 },
 "nbformat": 4,
 "nbformat_minor": 4
}
