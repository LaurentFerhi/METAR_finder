{
 "cells": [
  {
   "cell_type": "markdown",
   "metadata": {},
   "source": [
    "# METAR data on nearest airport\n",
    "https://ourairports.com/data/\n",
    "\n",
    "https://aviationweather.gov/dataserver/example?datatype=metar\n",
    "\n",
    "https://aviationweather.gov/adds/dataserver_current/httpparam?dataSource=metars&requestType=retrieve&format=xml&startTime=2023-01-21T19:09:20Z&endTime=2023-01-21T21:09:20Z&stationString=PHTO"
   ]
  },
  {
   "cell_type": "code",
   "execution_count": 163,
   "metadata": {},
   "outputs": [],
   "source": [
    "# pip install beautifulsoup4\n",
    "# pip install lxml"
   ]
  },
  {
   "cell_type": "code",
   "execution_count": 164,
   "metadata": {},
   "outputs": [],
   "source": [
    "import requests\n",
    "import json\n",
    "from bs4 import BeautifulSoup\n",
    "\n",
    "import numpy as np\n",
    "import pandas as pd"
   ]
  },
  {
   "cell_type": "code",
   "execution_count": 165,
   "metadata": {},
   "outputs": [],
   "source": [
    "### Load airports data\n",
    "airports = pd.read_csv('airports.csv')\n",
    "airports = airports[airports.scheduled_service == 'yes'] # only aiprt with weather station"
   ]
  },
  {
   "cell_type": "code",
   "execution_count": 166,
   "metadata": {},
   "outputs": [],
   "source": [
    "def edit_metars(sd,sh,ed,eh,oaci):\n",
    "    '''\n",
    "    Read xml file from https://aviationweather.gov/dataserver/example?datatype=metar API\n",
    "    and extract METARS.\n",
    "    sd: start date\n",
    "    sh: start hour\n",
    "    ed: end date\n",
    "    eh: en hour\n",
    "    returns a pandas dataframe with METAR, temperature, visibility and flight rule\n",
    "    '''\n",
    "    \n",
    "    url = \"https://aviationweather.gov/adds/dataserver_current/httpparam?\"\\\n",
    "        + \"dataSource=metars&requestType=retrieve&format=xml&\"\\\n",
    "        +\"startTime={}T{}Z&endTime={}T{}Z&stationString={}\".format(sd,sh,ed,eh,oaci)\n",
    "    \n",
    "    response = requests.get(url)\n",
    "    bs_data = BeautifulSoup(response.text, \"xml\")\n",
    "    # print(bs_data.prettify()) # uncomment to see all xml file\n",
    "    \n",
    "    dict_METAR = {}\n",
    "    for tag in ['raw_text','temp_c','visibility_statute_mi','flight_category']:\n",
    "        dict_METAR[tag] = []\n",
    "        for link in bs_data.find_all(tag):\n",
    "            dict_METAR[tag].append(link.contents[0]) \n",
    "\n",
    "    results = pd.DataFrame(dict_METAR)\n",
    "    results['temp_c'] = results['temp_c'].astype(float)\n",
    "    results['visibility_statute_mi'] = results['visibility_statute_mi'].astype(float)\n",
    "    \n",
    "    return results"
   ]
  },
  {
   "cell_type": "code",
   "execution_count": 167,
   "metadata": {},
   "outputs": [],
   "source": [
    "lat, lon = 48.403088, 11.517864\n",
    "sd = '2023-01-21'\n",
    "sh = '19:09:20'\n",
    "ed = '2023-01-21'\n",
    "eh = '21:09:20'\n",
    "\n",
    "# Get the nearest airport with weather service\n",
    "best_match = airports.iloc[\n",
    "    (abs(airports['latitude_deg']-lat) + abs(airports['longitude_deg']-lon)).argsort()\n",
    "]\n",
    "\n",
    "# Search valid metars in the 20th nearest aiprorts during the specified time range\n",
    "for oaci in best_match.head(20).ident.tolist():\n",
    "    df_metar = edit_metars(sd,sh,ed,eh,oaci)\n",
    "    if df_metar.shape[0] > 0:\n",
    "        break"
   ]
  },
  {
   "cell_type": "code",
   "execution_count": 168,
   "metadata": {},
   "outputs": [
    {
     "data": {
      "text/html": [
       "<div>\n",
       "<style scoped>\n",
       "    .dataframe tbody tr th:only-of-type {\n",
       "        vertical-align: middle;\n",
       "    }\n",
       "\n",
       "    .dataframe tbody tr th {\n",
       "        vertical-align: top;\n",
       "    }\n",
       "\n",
       "    .dataframe thead th {\n",
       "        text-align: right;\n",
       "    }\n",
       "</style>\n",
       "<table border=\"1\" class=\"dataframe\">\n",
       "  <thead>\n",
       "    <tr style=\"text-align: right;\">\n",
       "      <th></th>\n",
       "      <th>raw_text</th>\n",
       "      <th>temp_c</th>\n",
       "      <th>visibility_statute_mi</th>\n",
       "      <th>flight_category</th>\n",
       "    </tr>\n",
       "  </thead>\n",
       "  <tbody>\n",
       "    <tr>\n",
       "      <th>0</th>\n",
       "      <td>EDDM 212050Z AUTO 32006KT 9999 FEW010 BKN044 M...</td>\n",
       "      <td>-2.0</td>\n",
       "      <td>6.21</td>\n",
       "      <td>VFR</td>\n",
       "    </tr>\n",
       "    <tr>\n",
       "      <th>1</th>\n",
       "      <td>EDDM 212020Z AUTO 32004KT 9999 -SN FEW010 BKN0...</td>\n",
       "      <td>-2.0</td>\n",
       "      <td>6.21</td>\n",
       "      <td>MVFR</td>\n",
       "    </tr>\n",
       "    <tr>\n",
       "      <th>2</th>\n",
       "      <td>EDDM 211950Z AUTO 33005KT 9000 -SN SCT015 BKN0...</td>\n",
       "      <td>-2.0</td>\n",
       "      <td>5.59</td>\n",
       "      <td>VFR</td>\n",
       "    </tr>\n",
       "    <tr>\n",
       "      <th>3</th>\n",
       "      <td>EDDM 211920Z AUTO 33006KT 290V350 6000 -SN FEW...</td>\n",
       "      <td>-2.0</td>\n",
       "      <td>3.73</td>\n",
       "      <td>MVFR</td>\n",
       "    </tr>\n",
       "  </tbody>\n",
       "</table>\n",
       "</div>"
      ],
      "text/plain": [
       "                                            raw_text  temp_c  \\\n",
       "0  EDDM 212050Z AUTO 32006KT 9999 FEW010 BKN044 M...    -2.0   \n",
       "1  EDDM 212020Z AUTO 32004KT 9999 -SN FEW010 BKN0...    -2.0   \n",
       "2  EDDM 211950Z AUTO 33005KT 9000 -SN SCT015 BKN0...    -2.0   \n",
       "3  EDDM 211920Z AUTO 33006KT 290V350 6000 -SN FEW...    -2.0   \n",
       "\n",
       "   visibility_statute_mi flight_category  \n",
       "0                   6.21             VFR  \n",
       "1                   6.21            MVFR  \n",
       "2                   5.59             VFR  \n",
       "3                   3.73            MVFR  "
      ]
     },
     "execution_count": 168,
     "metadata": {},
     "output_type": "execute_result"
    }
   ],
   "source": [
    "df_metar"
   ]
  },
  {
   "cell_type": "code",
   "execution_count": null,
   "metadata": {},
   "outputs": [],
   "source": []
  }
 ],
 "metadata": {
  "kernelspec": {
   "display_name": "Python 3",
   "language": "python",
   "name": "python3"
  },
  "language_info": {
   "codemirror_mode": {
    "name": "ipython",
    "version": 3
   },
   "file_extension": ".py",
   "mimetype": "text/x-python",
   "name": "python",
   "nbconvert_exporter": "python",
   "pygments_lexer": "ipython3",
   "version": "3.7.6"
  }
 },
 "nbformat": 4,
 "nbformat_minor": 4
}
